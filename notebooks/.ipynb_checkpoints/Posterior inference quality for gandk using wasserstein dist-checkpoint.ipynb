{
 "cells": [
  {
   "cell_type": "markdown",
   "metadata": {},
   "source": [
    "Load POT "
   ]
  },
  {
   "cell_type": "code",
   "execution_count": 1,
   "metadata": {},
   "outputs": [],
   "source": [
    "import numpy as np\n",
    "import matplotlib.pylab as pl\n",
    "import ot\n",
    "import ot.plot\n",
    "import os "
   ]
  },
  {
   "cell_type": "code",
   "execution_count": 2,
   "metadata": {},
   "outputs": [],
   "source": [
    "# only use type 1 fonts in figures \n",
    "pl.rcParams['ps.useafm'] = True\n",
    "pl.rcParams['pdf.use14corefonts'] = True\n",
    "pl.rcParams['text.usetex'] = True"
   ]
  },
  {
   "cell_type": "markdown",
   "metadata": {},
   "source": [
    "Set correct path"
   ]
  },
  {
   "cell_type": "code",
   "execution_count": 3,
   "metadata": {},
   "outputs": [
    {
     "name": "stdout",
     "output_type": "stream",
     "text": [
      "/home/samuel/Documents/projects/ABC with deep learning/code\n"
     ]
    }
   ],
   "source": [
    "os.chdir(\"..\")\n",
    "print(os.getcwd())"
   ]
  },
  {
   "cell_type": "markdown",
   "metadata": {},
   "source": [
    "Load exact posterior"
   ]
  },
  {
   "cell_type": "code",
   "execution_count": 4,
   "metadata": {},
   "outputs": [
    {
     "name": "stdout",
     "output_type": "stream",
     "text": [
      "[[2.94350988 2.94350988 2.94350988 ... 3.00417042 3.00417042 3.00417042]\n",
      " [0.9791736  0.9791736  0.9791736  ... 0.97648803 0.97648803 0.97648803]\n",
      " [2.12678594 2.12678594 2.12678594 ... 1.97871473 1.97871473 1.97871473]\n",
      " ...\n",
      " [0.81654229 0.81654229 0.81654229 ... 0.90142008 0.90142008 0.90142008]\n",
      " [1.84638921 1.84638921 1.84638921 ... 1.75040481 1.75040481 1.75040481]\n",
      " [0.55405442 0.55405442 0.55405442 ... 0.49371025 0.49371025 0.49371025]]\n",
      "(400, 10001)\n"
     ]
    }
   ],
   "source": [
    "exact_posterior = np.transpose(np.loadtxt(open(\"data/gandk/posteriors_multiple_data_sets_exact.csv\", \"rb\"), delimiter=\",\", skiprows=1))\n",
    "print(exact_posterior)\n",
    "print(exact_posterior.shape)"
   ]
  },
  {
   "cell_type": "markdown",
   "metadata": {},
   "source": [
    "## Compare ABC with handpicked summary, PEN and MLP"
   ]
  },
  {
   "cell_type": "markdown",
   "metadata": {},
   "source": [
    "Load data"
   ]
  },
  {
   "cell_type": "code",
   "execution_count": 5,
   "metadata": {
    "scrolled": false
   },
   "outputs": [
    {
     "name": "stdout",
     "output_type": "stream",
     "text": [
      "(400, 100)\n",
      "(400, 100)\n",
      "(400, 100)\n",
      "100\n"
     ]
    }
   ],
   "source": [
    "posterior_handpicked = np.loadtxt(open(\"data/gandk/posteriors_multiple_data_sets_abcrs.csv\", \"rb\"), delimiter=\",\", skiprows=1)\n",
    "posterior_mlp_small = np.loadtxt(open(\"data/gandk/posteriors_multiple_data_sets_mlp_1_small.csv\", \"rb\"), delimiter=\",\", skiprows=1)\n",
    "posterior_mlp_large = np.loadtxt(open(\"data/gandk/posteriors_multiple_data_sets_mlp_1_large.csv\", \"rb\"), delimiter=\",\", skiprows=1)\n",
    "posterior_mlppre = np.loadtxt(open(\"data/gandk/posteriors_multiple_data_sets_mlp_preprocessing_1.csv\", \"rb\"), delimiter=\",\", skiprows=1)\n",
    "posterior_pen = np.loadtxt(open(\"data/gandk/posteriors_multiple_data_sets_deepsets_1.csv\", \"rb\"), delimiter=\",\", skiprows=1)\n",
    "print(posterior_handpicked.shape)\n",
    "print(posterior_mlp_small.shape)\n",
    "print(posterior_pen.shape)\n",
    "n = posterior_handpicked.shape[1]\n",
    "print(n)"
   ]
  },
  {
   "cell_type": "markdown",
   "metadata": {},
   "source": [
    "### Only looking at one posterior dist"
   ]
  },
  {
   "cell_type": "code",
   "execution_count": 6,
   "metadata": {},
   "outputs": [
    {
     "name": "stdout",
     "output_type": "stream",
     "text": [
      "[[2.94350988 0.9791736  2.12678594 0.51167407]\n",
      " [2.94350988 0.9791736  2.12678594 0.51167407]\n",
      " [2.94350988 0.9791736  2.12678594 0.51167407]\n",
      " [2.94350988 0.9791736  2.12678594 0.51167407]\n",
      " [2.94350988 0.9791736  2.12678594 0.51167407]\n",
      " [2.94350988 0.9791736  2.12678594 0.51167407]\n",
      " [2.94350988 0.9791736  2.12678594 0.51167407]\n",
      " [2.93003862 0.95337997 2.1349088  0.52687057]\n",
      " [2.93003862 0.95337997 2.1349088  0.52687057]\n",
      " [2.93003862 0.95337997 2.1349088  0.52687057]\n",
      " [2.93003862 0.95337997 2.1349088  0.52687057]\n",
      " [2.93003862 0.95337997 2.1349088  0.52687057]\n",
      " [2.93003862 0.95337997 2.1349088  0.52687057]\n",
      " [2.93003862 0.95337997 2.1349088  0.52687057]\n",
      " [2.93003862 0.95337997 2.1349088  0.52687057]\n",
      " [2.93003862 0.95337997 2.1349088  0.52687057]\n",
      " [2.93003862 0.95337997 2.1349088  0.52687057]\n",
      " [2.93003862 0.95337997 2.1349088  0.52687057]\n",
      " [2.93003862 0.95337997 2.1349088  0.52687057]\n",
      " [2.93003862 0.95337997 2.1349088  0.52687057]\n",
      " [2.93003862 0.95337997 2.1349088  0.52687057]\n",
      " [2.93003862 0.95337997 2.1349088  0.52687057]\n",
      " [2.93003862 0.95337997 2.1349088  0.52687057]\n",
      " [2.93003862 0.95337997 2.1349088  0.52687057]]\n",
      "(100, 4)\n"
     ]
    }
   ],
   "source": [
    "posexacttemp = np.transpose(exact_posterior[0:4,0:n])\n",
    "print(posexacttemp[1:25,:])\n",
    "print(posexacttemp.shape)"
   ]
  },
  {
   "cell_type": "markdown",
   "metadata": {},
   "source": [
    "#### Compute EMD for handpicked"
   ]
  },
  {
   "cell_type": "markdown",
   "metadata": {},
   "source": [
    "Load data "
   ]
  },
  {
   "cell_type": "code",
   "execution_count": 7,
   "metadata": {},
   "outputs": [
    {
     "name": "stdout",
     "output_type": "stream",
     "text": [
      "[[ 2.85939717  0.92332155 11.0234499   1.89175987]\n",
      " [ 2.87867451  0.61857128  4.25214624  1.90554404]\n",
      " [ 2.90051866  0.80348313  6.65687227  2.27367783]\n",
      " [ 2.77891898  0.95360243  8.35993195  0.71756876]\n",
      " [ 2.8633709   0.76082528  2.91009879  1.27301669]\n",
      " [ 2.83911228  0.6075139   4.66029119  2.27089453]\n",
      " [ 2.88151407  0.6291784   4.89053345  2.24950433]\n",
      " [ 2.84621263  0.95044506  3.37143254  1.16470885]\n",
      " [ 2.88301706  0.63463426 10.82519531  3.0351305 ]\n",
      " [ 2.85874271  0.8431555   8.58116531  1.84880078]\n",
      " [ 2.90822673  0.78558385  4.61771441  1.79411948]\n",
      " [ 2.90852094  0.70854849  1.77050507  0.95438224]\n",
      " [ 2.85580468  0.94880313  5.92288876  1.70589447]\n",
      " [ 2.76797462  0.75402564  8.65356636  2.37801719]\n",
      " [ 2.94528937  1.00846112  7.19691038  1.56262648]\n",
      " [ 2.95098233  0.73956084  2.80352259  1.38024402]\n",
      " [ 2.81585455  0.82059592  7.29799318  1.60254812]\n",
      " [ 2.91970539  0.97977358  2.5239594   0.48697007]\n",
      " [ 3.01061058  1.05484366  2.09352398  0.57352161]\n",
      " [ 2.91080618  0.66859013  1.00138795  0.66530472]\n",
      " [ 2.90354609  1.00756538  9.88439655  1.66062605]\n",
      " [ 2.89689136  0.87792963  3.87653971  1.89035571]\n",
      " [ 2.9003756   0.59461546  3.92051768  3.21894026]\n",
      " [ 2.82245564  0.73608303  5.86097527  1.36617446]]\n",
      "(100, 4)\n"
     ]
    }
   ],
   "source": [
    "posttemp =  np.transpose(posterior_handpicked[0:4,:])\n",
    "print(posttemp[1:25,:])\n",
    "print(posttemp.shape)"
   ]
  },
  {
   "cell_type": "markdown",
   "metadata": {},
   "source": [
    "Compute EMD using POT"
   ]
  },
  {
   "cell_type": "code",
   "execution_count": 8,
   "metadata": {},
   "outputs": [
    {
     "name": "stdout",
     "output_type": "stream",
     "text": [
      "EMD cost (handpicked): 15.600254872665246\n"
     ]
    }
   ],
   "source": [
    "a, b = np.ones((n,)) / n, np.ones((n,)) / n  # uniform distribution on samples\n",
    "\n",
    "# loss matrix\n",
    "M = ot.dist(x1 = posttemp, x2 = posexacttemp)\n",
    "G0 = ot.emd(a, b, M, log=True)\n",
    "\n",
    "print('EMD cost (handpicked):', G0[1].get('cost'))"
   ]
  },
  {
   "cell_type": "markdown",
   "metadata": {},
   "source": [
    "#### Compute EMD for MLP"
   ]
  },
  {
   "cell_type": "markdown",
   "metadata": {},
   "source": [
    "Load data "
   ]
  },
  {
   "cell_type": "code",
   "execution_count": 9,
   "metadata": {},
   "outputs": [
    {
     "name": "stdout",
     "output_type": "stream",
     "text": [
      "[[3.00109458 1.25535083 1.77040493 0.405325  ]\n",
      " [3.38003612 0.20318252 2.54918432 1.34488225]\n",
      " [2.8733449  1.03387785 5.67047501 0.47511864]\n",
      " [3.10597849 0.38145193 7.88469791 1.08393276]\n",
      " [2.77891898 0.95360243 8.35993195 0.71756876]\n",
      " [2.67011881 0.82971686 7.52653742 0.80786765]\n",
      " [2.72567439 1.07528245 2.03537345 0.57770604]\n",
      " [3.08698082 0.6673609  1.73254299 0.63503098]\n",
      " [2.7944293  1.70001996 3.73660254 0.09320535]\n",
      " [3.02271581 0.19647105 3.86994934 1.6818682 ]\n",
      " [2.58606815 2.55435991 2.28596425 0.01791364]\n",
      " [3.69481277 1.33704758 0.19598925 0.52452546]\n",
      " [3.18904567 0.3375178  2.65876007 1.10678256]\n",
      " [3.04706049 0.3192791  4.09475088 1.0755949 ]\n",
      " [2.54146385 1.96563125 2.69217587 0.28002203]\n",
      " [3.06584597 1.10709667 1.78370535 0.2401682 ]\n",
      " [2.85271835 1.34388089 2.92137885 0.34415624]\n",
      " [3.06129932 1.46426713 1.01354814 0.46890482]\n",
      " [3.1556437  1.58558404 0.8945899  0.13363063]\n",
      " [3.60284996 0.65571284 0.77489901 0.68457592]\n",
      " [2.54434133 1.63065004 4.34438038 0.27293849]\n",
      " [1.97968686 2.09911394 7.30266666 0.43722746]\n",
      " [3.15660095 0.7928918  3.1032455  0.59101337]\n",
      " [3.15774775 0.88836622 4.82666302 0.22968879]]\n",
      "(100, 4)\n"
     ]
    }
   ],
   "source": [
    "posttemp =  np.transpose(posterior_mlp_small[0:4,:])\n",
    "print(posttemp[1:25,:])\n",
    "print(posttemp.shape)"
   ]
  },
  {
   "cell_type": "code",
   "execution_count": 10,
   "metadata": {},
   "outputs": [
    {
     "name": "stdout",
     "output_type": "stream",
     "text": [
      "[[3.00109458 1.25535083 1.77040493 0.405325  ]\n",
      " [3.38003612 0.20318252 2.54918432 1.34488225]\n",
      " [2.8733449  1.03387785 5.67047501 0.47511864]\n",
      " [3.10597849 0.38145193 7.88469791 1.08393276]\n",
      " [2.77891898 0.95360243 8.35993195 0.71756876]\n",
      " [2.67011881 0.82971686 7.52653742 0.80786765]\n",
      " [2.72567439 1.07528245 2.03537345 0.57770604]\n",
      " [3.08698082 0.6673609  1.73254299 0.63503098]\n",
      " [2.7944293  1.70001996 3.73660254 0.09320535]\n",
      " [3.02271581 0.19647105 3.86994934 1.6818682 ]\n",
      " [2.58606815 2.55435991 2.28596425 0.01791364]\n",
      " [3.69481277 1.33704758 0.19598925 0.52452546]\n",
      " [3.18904567 0.3375178  2.65876007 1.10678256]\n",
      " [3.04706049 0.3192791  4.09475088 1.0755949 ]\n",
      " [2.54146385 1.96563125 2.69217587 0.28002203]\n",
      " [3.06584597 1.10709667 1.78370535 0.2401682 ]\n",
      " [2.85271835 1.34388089 2.92137885 0.34415624]\n",
      " [3.06129932 1.46426713 1.01354814 0.46890482]\n",
      " [3.1556437  1.58558404 0.8945899  0.13363063]\n",
      " [3.60284996 0.65571284 0.77489901 0.68457592]\n",
      " [2.54434133 1.63065004 4.34438038 0.27293849]\n",
      " [1.97968686 2.09911394 7.30266666 0.43722746]\n",
      " [3.15660095 0.7928918  3.1032455  0.59101337]\n",
      " [3.15774775 0.88836622 4.82666302 0.22968879]]\n",
      "(100, 4)\n"
     ]
    }
   ],
   "source": [
    "posttemp =  np.transpose(posterior_mlp_small[0:4,:])\n",
    "print(posttemp[1:25,:])\n",
    "print(posttemp.shape)"
   ]
  },
  {
   "cell_type": "markdown",
   "metadata": {},
   "source": [
    "Compute EMD using POT"
   ]
  },
  {
   "cell_type": "code",
   "execution_count": 11,
   "metadata": {},
   "outputs": [
    {
     "name": "stdout",
     "output_type": "stream",
     "text": [
      "EMD cost (mlp): 14.40356930141855\n"
     ]
    }
   ],
   "source": [
    "a, b = np.ones((n,)) / n, np.ones((n,)) / n  # uniform distribution on samples\n",
    "\n",
    "# loss matrix\n",
    "M = ot.dist(x1 = posttemp, x2 = posexacttemp)\n",
    "\n",
    "G0 = ot.emd(a, b, M, log=True)\n",
    "print('EMD cost (mlp):', G0[1].get('cost'))"
   ]
  },
  {
   "cell_type": "code",
   "execution_count": 12,
   "metadata": {},
   "outputs": [
    {
     "name": "stdout",
     "output_type": "stream",
     "text": [
      "EMD cost (mlp): 14.40356930141855\n"
     ]
    }
   ],
   "source": [
    "a, b = np.ones((n,)) / n, np.ones((n,)) / n  # uniform distribution on samples\n",
    "\n",
    "# loss matrix\n",
    "M = ot.dist(posttemp, posexacttemp)\n",
    "\n",
    "G0 = ot.emd(a, b, M, log=True)\n",
    "print('EMD cost (mlp):', G0[1].get('cost'))"
   ]
  },
  {
   "cell_type": "markdown",
   "metadata": {},
   "source": [
    "#### Compute EMD for MLP preprocessing"
   ]
  },
  {
   "cell_type": "code",
   "execution_count": 13,
   "metadata": {},
   "outputs": [
    {
     "name": "stdout",
     "output_type": "stream",
     "text": [
      "[[3.00109458 1.25535083 1.77040493 0.405325  ]\n",
      " [3.04041266 1.3023876  2.3486743  0.38572437]\n",
      " [3.59022832 1.11291051 1.38911223 0.24555096]\n",
      " [3.27268028 1.22943163 1.9891969  0.77804703]\n",
      " [2.72473073 0.58294702 1.27866936 0.54494715]\n",
      " [3.05889726 0.83746076 1.5555861  0.35321301]\n",
      " [3.05136585 0.81721109 2.4525671  1.16615176]\n",
      " [3.45392537 1.19924283 1.93912613 0.69572699]\n",
      " [3.10250235 0.97148079 2.0569222  0.85476404]\n",
      " [2.7230041  0.93919075 1.28582919 0.28366116]\n",
      " [2.72567439 1.07528245 2.03537345 0.57770604]\n",
      " [2.86256409 0.5688237  1.72791529 0.80867332]\n",
      " [3.07521081 1.09642303 1.79477441 0.30273768]\n",
      " [2.91047311 0.94651699 1.92596591 1.18215978]\n",
      " [2.78256202 1.14275265 1.93564534 0.64443058]\n",
      " [2.830302   1.08639073 2.08111095 0.61505872]\n",
      " [2.75710893 1.45431447 1.66834509 0.38469115]\n",
      " [2.81833982 0.48357284 1.4470005  0.54517442]\n",
      " [3.01061058 1.05484366 2.09352398 0.57352161]\n",
      " [2.80601501 1.26494086 1.7982955  0.63980687]\n",
      " [2.82556963 1.26309013 1.95246661 0.83703214]\n",
      " [3.06584597 1.10709667 1.78370535 0.2401682 ]\n",
      " [3.1832881  0.71884733 1.5674243  0.56066561]\n",
      " [3.22755694 1.1239208  2.67537379 0.90891236]]\n",
      "(100, 4)\n"
     ]
    }
   ],
   "source": [
    "posttemp =  np.transpose(posterior_mlppre[0:4,:])\n",
    "print(posttemp[1:25,:])\n",
    "print(posttemp.shape)"
   ]
  },
  {
   "cell_type": "code",
   "execution_count": 14,
   "metadata": {},
   "outputs": [
    {
     "name": "stdout",
     "output_type": "stream",
     "text": [
      "EMD cost (mlp pre): 0.41693367190046554\n"
     ]
    }
   ],
   "source": [
    "a, b = np.ones((n,)) / n, np.ones((n,)) / n  # uniform distribution on samples\n",
    "\n",
    "# loss matrix\n",
    "M = ot.dist(posttemp, posexacttemp)\n",
    "\n",
    "G0 = ot.emd(a, b, M, log=True)\n",
    "print('EMD cost (mlp pre):', G0[1].get('cost'))"
   ]
  },
  {
   "cell_type": "markdown",
   "metadata": {},
   "source": [
    "#### Compute EMD for PEN"
   ]
  },
  {
   "cell_type": "markdown",
   "metadata": {},
   "source": [
    "Load data"
   ]
  },
  {
   "cell_type": "code",
   "execution_count": 15,
   "metadata": {},
   "outputs": [
    {
     "name": "stdout",
     "output_type": "stream",
     "text": [
      "[[3.00109458 1.25535083 1.77040493 0.405325  ]\n",
      " [3.04041266 1.3023876  2.3486743  0.38572437]\n",
      " [3.19336081 1.12966013 1.85936832 1.08825135]\n",
      " [3.16766572 1.29670382 2.0330646  0.66966009]\n",
      " [3.25770569 1.45115137 2.59135151 0.44250578]\n",
      " [2.72736764 0.94841868 2.55227685 0.44253111]\n",
      " [3.27268028 1.22943163 1.9891969  0.77804703]\n",
      " [3.45392537 1.19924283 1.93912613 0.69572699]\n",
      " [3.10250235 0.97148079 2.0569222  0.85476404]\n",
      " [2.72567439 1.07528245 2.03537345 0.57770604]\n",
      " [2.87865329 1.20091355 2.32391262 0.34406865]\n",
      " [2.8702662  1.16088521 2.25387716 0.67184317]\n",
      " [2.90852094 0.70854849 1.77050507 0.95438224]\n",
      " [3.49980474 1.19425416 1.74066818 0.83434314]\n",
      " [2.78256202 1.14275265 1.93564534 0.64443058]\n",
      " [2.830302   1.08639073 2.08111095 0.61505872]\n",
      " [2.91970539 0.97977358 2.5239594  0.48697007]\n",
      " [3.01061058 1.05484366 2.09352398 0.57352161]\n",
      " [3.1832881  0.71884733 1.5674243  0.56066561]\n",
      " [2.82782912 0.60571021 1.52640581 0.33600944]\n",
      " [2.91064644 0.78365886 2.31596804 0.47315055]\n",
      " [3.49318552 1.04689229 2.15665078 0.74053615]\n",
      " [2.80712962 0.75358695 1.91908574 0.44688743]\n",
      " [3.15913725 1.09038877 1.79948831 0.31501049]]\n",
      "(100, 4)\n"
     ]
    }
   ],
   "source": [
    "posttemp =  np.transpose(posterior_pen[0:4,:])\n",
    "print(posttemp[1:25,:])\n",
    "print(posttemp.shape)"
   ]
  },
  {
   "cell_type": "markdown",
   "metadata": {},
   "source": [
    "Compute EMD using POT"
   ]
  },
  {
   "cell_type": "code",
   "execution_count": 16,
   "metadata": {},
   "outputs": [
    {
     "name": "stdout",
     "output_type": "stream",
     "text": [
      "EMD cost (pen): 0.2772954261279592\n"
     ]
    }
   ],
   "source": [
    "a, b = np.ones((n,)) / n, np.ones((n,)) / n  # uniform distribution on samples\n",
    "\n",
    "# loss matrix\n",
    "M = ot.dist(posttemp, posexacttemp)\n",
    "\n",
    "G0 = ot.emd(a, b, M, log=True)\n",
    "print('EMD cost (pen):', G0[1].get('cost'))"
   ]
  },
  {
   "cell_type": "markdown",
   "metadata": {},
   "source": [
    "### Compute EMD for multiple posterior dist"
   ]
  },
  {
   "cell_type": "code",
   "execution_count": 17,
   "metadata": {},
   "outputs": [],
   "source": [
    "nbr_posterior = 100 # this should be 100 later..."
   ]
  },
  {
   "cell_type": "markdown",
   "metadata": {},
   "source": [
    "#### 10^6 traning data obs"
   ]
  },
  {
   "cell_type": "markdown",
   "metadata": {},
   "source": [
    "Calc EMD "
   ]
  },
  {
   "cell_type": "code",
   "execution_count": 18,
   "metadata": {},
   "outputs": [],
   "source": [
    "\n",
    "# Handpicked\n",
    "emd_handpicked = np.zeros((1, nbr_posterior))\n",
    "\n",
    "idx = -1\n",
    "for i in range(0, nbr_posterior*4, 4):\n",
    "    idx = idx +1\n",
    "    posttemp = np.transpose(posterior_handpicked[i:i+4,:])\n",
    "    posexacttemp = np.transpose(exact_posterior[i:i+4,0:n])\n",
    "    M = ot.dist(posttemp, posexacttemp)\n",
    "    emd_handpicked[:,idx]  = ot.emd(a, b, M, log=True)[1].get('cost')\n",
    "\n",
    "# MLP samll\n",
    "emd_mlp_small = np.zeros((1, nbr_posterior))\n",
    "\n",
    "idx = -1\n",
    "for i in range(0, nbr_posterior*4, 4):\n",
    "    idx = idx +1\n",
    "    posttemp = np.transpose(posterior_mlp_small[i:i+4,:])\n",
    "    posexacttemp = np.transpose(exact_posterior[i:i+4,0:n])\n",
    "    M = ot.dist(posttemp, posexacttemp)\n",
    "    emd_mlp_small[:,idx]  = ot.emd(a, b, M, log=True)[1].get('cost')\n",
    "\n",
    "# MLP large\n",
    "emd_mlp_large = np.zeros((1, nbr_posterior))\n",
    "\n",
    "idx = -1\n",
    "for i in range(0, nbr_posterior*4, 4):\n",
    "    idx = idx +1\n",
    "    posttemp = np.transpose(posterior_mlp_large[i:i+4,:])\n",
    "    posexacttemp = np.transpose(exact_posterior[i:i+4,0:n])\n",
    "    M = ot.dist(posttemp, posexacttemp)\n",
    "    emd_mlp_large[:,idx]  = ot.emd(a, b, M, log=True)[1].get('cost')\n",
    "\n",
    "# preprrocessing\n",
    "emd_mlppre = np.zeros((1, nbr_posterior))\n",
    "\n",
    "idx = -1\n",
    "for i in range(0, nbr_posterior*4, 4):\n",
    "    idx = idx +1\n",
    "    posttemp = np.transpose(posterior_mlppre[i:i+4,:])\n",
    "    posexacttemp = np.transpose(exact_posterior[i:i+4,0:n])\n",
    "    M = ot.dist(posttemp, posexacttemp)\n",
    "    emd_mlppre[:,idx]  = ot.emd(a, b, M, log=True)[1].get('cost')\n",
    "\n",
    "# PEN\n",
    "emd_pen = np.zeros((1, nbr_posterior))\n",
    "\n",
    "idx = -1\n",
    "for i in range(0, nbr_posterior*4, 4):\n",
    "    idx = idx +1\n",
    "    posttemp = np.transpose(posterior_pen[i:i+4,:])\n",
    "    posexacttemp = np.transpose(exact_posterior[i:i+4,0:n])\n",
    "    M = ot.dist(posttemp, posexacttemp)\n",
    "    emd_pen[:,idx]  = ot.emd(a, b, M, log=True)[1].get('cost')\n"
   ]
  },
  {
   "cell_type": "markdown",
   "metadata": {},
   "source": [
    "Plot box plot"
   ]
  },
  {
   "cell_type": "code",
   "execution_count": 19,
   "metadata": {},
   "outputs": [
    {
     "data": {
      "text/plain": [
       "Text(0,0.5,'Wasserstein dist.')"
      ]
     },
     "execution_count": 19,
     "metadata": {},
     "output_type": "execute_result"
    },
    {
     "data": {
      "image/png": "[encoded data removed]",
      "text/plain": [
       "<Figure size 432x288 with 1 Axes>"
      ]
     },
     "metadata": {},
     "output_type": "display_data"
    }
   ],
   "source": [
    "emd_matrix = np.zeros((nbr_posterior, 5))\n",
    "emd_matrix[:,0] = emd_handpicked\n",
    "emd_matrix[:,1] = emd_mlp_small\n",
    "emd_matrix[:,2] = emd_mlp_large\n",
    "emd_matrix[:,3] = emd_mlppre\n",
    "emd_matrix[:,4] = emd_pen\n",
    "\n",
    "pl.figure(1)\n",
    "pl.boxplot(emd_matrix)\n",
    "pl.xticks([1, 2, 3, 4,5], [\"Hand-picked\", \"MLP (small)\", \"MLP (large)\",\"MLP (pre)\", \"PEN\"])\n",
    "pl.ylabel(\"Wasserstein dist.\")"
   ]
  },
  {
   "cell_type": "markdown",
   "metadata": {},
   "source": [
    "#### Smaller training data "
   ]
  },
  {
   "cell_type": "markdown",
   "metadata": {},
   "source": [
    "Read data"
   ]
  },
  {
   "cell_type": "code",
   "execution_count": 20,
   "metadata": {},
   "outputs": [],
   "source": [
    "posterior_mlp_2_small = np.loadtxt(open(\"data/gandk/posteriors_multiple_data_sets_mlp_2_small.csv\", \"rb\"), delimiter=\",\", skiprows=1)\n",
    "posterior_mlp_3_small = np.loadtxt(open(\"data/gandk/posteriors_multiple_data_sets_mlp_3_small.csv\", \"rb\"), delimiter=\",\", skiprows=1)\n",
    "posterior_mlp_4_small = np.loadtxt(open(\"data/gandk/posteriors_multiple_data_sets_mlp_4_small.csv\", \"rb\"), delimiter=\",\", skiprows=1)\n",
    "\n",
    "posterior_mlp_2_large = np.loadtxt(open(\"data/gandk/posteriors_multiple_data_sets_mlp_2_large.csv\", \"rb\"), delimiter=\",\", skiprows=1)\n",
    "posterior_mlp_3_large = np.loadtxt(open(\"data/gandk/posteriors_multiple_data_sets_mlp_3_large.csv\", \"rb\"), delimiter=\",\", skiprows=1)\n",
    "posterior_mlp_4_large = np.loadtxt(open(\"data/gandk/posteriors_multiple_data_sets_mlp_4_large.csv\", \"rb\"), delimiter=\",\", skiprows=1)\n",
    "\n",
    "posterior_mlppre_2 = np.loadtxt(open(\"data/gandk/posteriors_multiple_data_sets_mlp_preprocessing_2.csv\", \"rb\"), delimiter=\",\", skiprows=1)\n",
    "posterior_mlppre_3 = np.loadtxt(open(\"data/gandk/posteriors_multiple_data_sets_mlp_preprocessing_3.csv\", \"rb\"), delimiter=\",\", skiprows=1)\n",
    "posterior_mlppre_4 = np.loadtxt(open(\"data/gandk/posteriors_multiple_data_sets_mlp_preprocessing_4.csv\", \"rb\"), delimiter=\",\", skiprows=1)\n",
    "\n",
    "posterior_pen_2 = np.loadtxt(open(\"data/gandk/posteriors_multiple_data_sets_deepsets_2.csv\", \"rb\"), delimiter=\",\", skiprows=1)\n",
    "posterior_pen_3 = np.loadtxt(open(\"data/gandk/posteriors_multiple_data_sets_deepsets_3.csv\", \"rb\"), delimiter=\",\", skiprows=1)\n",
    "posterior_pen_4 = np.loadtxt(open(\"data/gandk/posteriors_multiple_data_sets_deepsets_4.csv\", \"rb\"), delimiter=\",\", skiprows=1)\n"
   ]
  },
  {
   "cell_type": "markdown",
   "metadata": {},
   "source": [
    "calc EMD"
   ]
  },
  {
   "cell_type": "code",
   "execution_count": 21,
   "metadata": {},
   "outputs": [],
   "source": [
    "emd_mlp_2_small = np.zeros((1, nbr_posterior))\n",
    "emd_mlp_3_small = np.zeros((1, nbr_posterior))\n",
    "emd_mlp_4_small = np.zeros((1, nbr_posterior))\n",
    "\n",
    "emd_mlp_2_large = np.zeros((1, nbr_posterior))\n",
    "emd_mlp_3_large = np.zeros((1, nbr_posterior))\n",
    "emd_mlp_4_large = np.zeros((1, nbr_posterior))\n",
    "\n",
    "emd_mlppre_2 = np.zeros((1, nbr_posterior))\n",
    "emd_mlppre_3 = np.zeros((1, nbr_posterior))\n",
    "emd_mlppre_4 = np.zeros((1, nbr_posterior))\n",
    "\n",
    "\n",
    "emd_pen_2 = np.zeros((1, nbr_posterior))\n",
    "emd_pen_3 = np.zeros((1, nbr_posterior))\n",
    "emd_pen_4 = np.zeros((1, nbr_posterior))\n",
    "\n",
    "idx = -1\n",
    "for i in range(0, nbr_posterior*4, 4):\n",
    "    \n",
    "    # values for iteration i \n",
    "    idx = idx +1\n",
    "    posexacttemp = np.transpose(exact_posterior[i:i+4,0:n])\n",
    "\n",
    "    # mlp small    \n",
    "    posttemp = np.transpose(posterior_mlp_2_small[i:i+4,:])\n",
    "    M = ot.dist(posttemp, posexacttemp)\n",
    "    emd_mlp_2_small[:,idx]  = ot.emd(a, b, M, log=True)[1].get('cost')\n",
    "\n",
    "    posttemp = np.transpose(posterior_mlp_3_small[i:i+4,:])\n",
    "    M = ot.dist(posttemp, posexacttemp)\n",
    "    emd_mlp_3_small[:,idx]  = ot.emd(a, b, M, log=True)[1].get('cost')\n",
    "\n",
    "    posttemp = np.transpose(posterior_mlp_4_small[i:i+4,:])\n",
    "    M = ot.dist(posttemp, posexacttemp)\n",
    "    emd_mlp_4_small[:,idx]  = ot.emd(a, b, M, log=True)[1].get('cost')\n",
    "\n",
    "    # mlp large    \n",
    "    posttemp = np.transpose(posterior_mlp_2_large[i:i+4,:])\n",
    "    M = ot.dist(posttemp, posexacttemp)\n",
    "    emd_mlp_2_large[:,idx]  = ot.emd(a, b, M, log=True)[1].get('cost')\n",
    "\n",
    "    posttemp = np.transpose(posterior_mlp_3_large[i:i+4,:])\n",
    "    M = ot.dist(posttemp, posexacttemp)\n",
    "    emd_mlp_3_large[:,idx]  = ot.emd(a, b, M, log=True)[1].get('cost')\n",
    "\n",
    "    posttemp = np.transpose(posterior_mlp_4_large[i:i+4,:])\n",
    "    M = ot.dist(posttemp, posexacttemp)\n",
    "    emd_mlp_4_large[:,idx]  = ot.emd(a, b, M, log=True)[1].get('cost')\n",
    "\n",
    "    # mlp pre   \n",
    "    posttemp = np.transpose(posterior_mlppre_2[i:i+4,:])\n",
    "    M = ot.dist(posttemp, posexacttemp)\n",
    "    emd_mlppre_2[:,idx]  = ot.emd(a, b, M, log=True)[1].get('cost')\n",
    "\n",
    "    posttemp = np.transpose(posterior_mlppre_3[i:i+4,:])\n",
    "    M = ot.dist(posttemp, posexacttemp)\n",
    "    emd_mlppre_3[:,idx]  = ot.emd(a, b, M, log=True)[1].get('cost')\n",
    "\n",
    "    posttemp = np.transpose(posterior_mlppre_4[i:i+4,:])\n",
    "    M = ot.dist(posttemp, posexacttemp)\n",
    "    emd_mlppre_4[:,idx]  = ot.emd(a, b, M, log=True)[1].get('cost')\n",
    "\n",
    "    # pen\n",
    "    posttemp = np.transpose(posterior_pen_2[i:i+4,:])\n",
    "    M = ot.dist(posttemp, posexacttemp)\n",
    "    emd_pen_2[:,idx]  = ot.emd(a, b, M, log=True)[1].get('cost')\n",
    "\n",
    "    posttemp = np.transpose(posterior_pen_3[i:i+4,:])\n",
    "    M = ot.dist(posttemp, posexacttemp)\n",
    "    emd_pen_3[:,idx]  = ot.emd(a, b, M, log=True)[1].get('cost')\n",
    "\n",
    "    posttemp = np.transpose(posterior_pen_4[i:i+4,:])\n",
    "    M = ot.dist(posttemp, posexacttemp)\n",
    "    emd_pen_4[:,idx]  = ot.emd(a, b, M, log=True)[1].get('cost')\n",
    "\n",
    "    "
   ]
  },
  {
   "cell_type": "markdown",
   "metadata": {},
   "source": [
    "Set up matrices for plotting"
   ]
  },
  {
   "cell_type": "code",
   "execution_count": 22,
   "metadata": {},
   "outputs": [],
   "source": [
    "data2 = np.zeros((nbr_posterior, 4))\n",
    "\n",
    "data2[:,0] = emd_mlp_2_small\n",
    "data2[:,1] = emd_mlp_2_large\n",
    "data2[:,2] = emd_mlppre_2\n",
    "data2[:,3] = emd_pen_2\n",
    "\n",
    "data3 = np.zeros((nbr_posterior, 4))\n",
    "\n",
    "data3[:,0] = emd_mlp_3_small\n",
    "data3[:,1] = emd_mlp_3_large\n",
    "data3[:,2] = emd_mlppre_3\n",
    "data3[:,3] = emd_pen_3\n",
    "\n",
    "data4 = np.zeros((nbr_posterior, 4))\n",
    "\n",
    "data4[:,0] = emd_mlp_4_small\n",
    "data4[:,1] = emd_mlp_4_large\n",
    "data4[:,2] = emd_mlppre_4\n",
    "data4[:,3] = emd_pen_4"
   ]
  },
  {
   "cell_type": "markdown",
   "metadata": {},
   "source": [
    "Plot box plots"
   ]
  },
  {
   "cell_type": "code",
   "execution_count": 23,
   "metadata": {},
   "outputs": [
    {
     "data": {
      "text/plain": [
       "Text(0,0.5,'Wasserstein dist.')"
      ]
     },
     "execution_count": 23,
     "metadata": {},
     "output_type": "execute_result"
    },
    {
     "data": {
      "image/png": "[encoded data removed]",
      "text/plain": [
       "<Figure size 432x288 with 1 Axes>"
      ]
     },
     "metadata": {},
     "output_type": "display_data"
    },
    {
     "data": {
      "image/png": "[encoded data removed]",
      "text/plain": [
       "<Figure size 432x288 with 1 Axes>"
      ]
     },
     "metadata": {},
     "output_type": "display_data"
    },
    {
     "data": {
      "image/png": "[encoded data removed]",
      "text/plain": [
       "<Figure size 432x288 with 1 Axes>"
      ]
     },
     "metadata": {},
     "output_type": "display_data"
    },
    {
     "data": {
      "image/png": "[encoded data removed]",
      "text/plain": [
       "<Figure size 432x288 with 1 Axes>"
      ]
     },
     "metadata": {},
     "output_type": "display_data"
    }
   ],
   "source": [
    "pl.figure(0)\n",
    "pl.boxplot(emd_matrix[:,1:5])\n",
    "pl.xticks([1, 2, 3,4], [\"MLP (small)\",\"MLP (small)\",\"MLP (pre)\",\"PEN\"]);\n",
    "pl.ylabel(\"Wasserstein dist.\")\n",
    "\n",
    "pl.figure(1)\n",
    "pl.boxplot(data2)\n",
    "pl.xticks([1, 2, 3,4], [\"MLP (small)\",\"MLP (small)\",\"MLP (pre)\",\"PEN\"]);\n",
    "pl.ylabel(\"Wasserstein dist.\")\n",
    "\n",
    "pl.figure(2)\n",
    "pl.boxplot(data3)\n",
    "pl.xticks([1, 2, 3,4], [\"MLP (small)\",\"MLP (small)\",\"MLP (pre)\",\"PEN\"]);\n",
    "pl.ylabel(\"Wasserstein dist.\")\n",
    "\n",
    "pl.figure(3)\n",
    "pl.boxplot(data4)\n",
    "pl.xticks([1, 2, 3,4], [\"MLP (small)\",\"MLP (small)\",\"MLP (pre)\",\"PEN\"]);\n",
    "pl.ylabel(\"Wasserstein dist.\")\n"
   ]
  },
  {
   "cell_type": "markdown",
   "metadata": {},
   "source": [
    "Calc mean EMD"
   ]
  },
  {
   "cell_type": "code",
   "execution_count": 24,
   "metadata": {},
   "outputs": [
    {
     "data": {
      "text/plain": [
       "20.592947610309434"
      ]
     },
     "execution_count": 24,
     "metadata": {},
     "output_type": "execute_result"
    }
   ],
   "source": [
    "mean_emd_matrix = np.zeros((4, 4))\n",
    "mean_emd_vec = np.mean(emd_handpicked)*np.ones((4, 1))\n",
    "\n",
    "mean_emd_matrix[0,:] = np.mean(emd_matrix[:,1:5],0)\n",
    "mean_emd_matrix[1,:] = np.mean(data2,0)\n",
    "mean_emd_matrix[2,:] = np.mean(data3,0)\n",
    "mean_emd_matrix[3,:] = np.mean(data4,0)\n",
    "\n",
    "np.mean(emd_handpicked)"
   ]
  },
  {
   "cell_type": "markdown",
   "metadata": {},
   "source": [
    "Plot mean EMD"
   ]
  },
  {
   "cell_type": "code",
   "execution_count": 25,
   "metadata": {},
   "outputs": [
    {
     "data": {
      "image/png": "[encoded data removed]",
      "text/plain": [
       "<Figure size 432x288 with 1 Axes>"
      ]
     },
     "metadata": {},
     "output_type": "display_data"
    }
   ],
   "source": [
    "x_scale = [5*10**5, 10**5, 10**4, 10**3]\n",
    "\n",
    "pl.figure(0)\n",
    "pl.semilogx(x_scale,mean_emd_vec, \"--k\")\n",
    "pl.semilogx(x_scale, mean_emd_matrix[:,0], \"*-b\")\n",
    "pl.semilogx(x_scale, mean_emd_matrix[:,1], \"*-b\", linestyle = \"--\")\n",
    "pl.semilogx(x_scale, mean_emd_matrix[:,2], \"*-r\")\n",
    "pl.semilogx(x_scale, mean_emd_matrix[:,3], \"*-g\")\n",
    "pl.xlabel(\"Number of obs. in training data\")\n",
    "pl.ylabel(\"Estimated Wasserstein distance\")\n",
    "pl.legend((\"Handpicked\",\"MLP small\",\"MLP large\",\"MLP pre\", \"PEN-0\"))\n",
    "pl.savefig(\"figures/res_gank_wasserstein.eps\", format=\"eps\", dpi=1000)"
   ]
  }
 ],
 "metadata": {
  "@webio": {
   "lastCommId": null,
   "lastKernelId": null
  },
  "kernelspec": {
   "display_name": "Python 3",
   "language": "python",
   "name": "python3"
  },
  "language_info": {
   "codemirror_mode": {
    "name": "ipython",
    "version": 3
   },
   "file_extension": ".py",
   "mimetype": "text/x-python",
   "name": "python",
   "nbconvert_exporter": "python",
   "pygments_lexer": "ipython3",
   "version": "3.6.5"
  }
 },
 "nbformat": 4,
 "nbformat_minor": 2
}
